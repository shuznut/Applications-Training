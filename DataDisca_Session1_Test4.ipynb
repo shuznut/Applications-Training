{
 "cells": [
  {
   "cell_type": "markdown",
   "id": "7fefee55",
   "metadata": {},
   "source": [
    "Importing necessary libraries "
   ]
  },
  {
   "cell_type": "code",
   "execution_count": null,
   "id": "2999c8e7",
   "metadata": {},
   "outputs": [],
   "source": [
    "# importing necessary libraries\n",
    "import numpy as np\n",
    "import pandas as pd\n",
    "from datetime import datetime \n",
    "import calendar\n",
    "from pandas_profiling import ProfileReport\n",
    "import dtale\n",
    "import sweetviz\n",
    "import chart_studio.plotly as py\n",
    "import seaborn as sns\n",
    "import plotly\n",
    "import plotly.express as px\n",
    "from pandas_profiling import ProfileReport\n",
    "%matplotlib "
   ]
  },
  {
   "cell_type": "code",
   "execution_count": null,
   "id": "7154b650",
   "metadata": {},
   "outputs": [],
   "source": [
    "import warnings\n",
    "warnings.simplefilter(action='ignore', category=FutureWarning)"
   ]
  },
  {
   "cell_type": "markdown",
   "id": "638bef85",
   "metadata": {},
   "source": [
    "### Section 1 : Data varying according to regions"
   ]
  },
  {
   "cell_type": "code",
   "execution_count": null,
   "id": "aeb4297c",
   "metadata": {},
   "outputs": [],
   "source": [
    "# gaining formatted data from the xls file\n",
    "Data_region = pd.read_excel('87520072.xls', sheet_name= \"Data_region_T\")\n",
    "Data_region_df = pd.DataFrame(Data_region)\n",
    "Data_region_df.head(2)"
   ]
  },
  {
   "cell_type": "code",
   "execution_count": null,
   "id": "0b2c9943",
   "metadata": {},
   "outputs": [],
   "source": [
    "# renaming the columns of the data frame \n",
    "for col in Data_region_df.columns[3:83]:\n",
    "    try:\n",
    "        date = str(col.strftime(\"%b-%Y\"))\n",
    "    except AttributeError:\n",
    "        continue\n",
    "    Data_region_df.rename(columns={col:date}, inplace=True)\n",
    "Data_region_df.head(2)"
   ]
  },
  {
   "cell_type": "markdown",
   "id": "bda247a8",
   "metadata": {},
   "source": [
    "##### 1.3 saving files in csv and json format"
   ]
  },
  {
   "cell_type": "code",
   "execution_count": null,
   "id": "262e72f5",
   "metadata": {},
   "outputs": [],
   "source": [
    "Data_region_df.to_csv(\"data_region_csv.csv\")"
   ]
  },
  {
   "cell_type": "code",
   "execution_count": null,
   "id": "3384b339",
   "metadata": {},
   "outputs": [],
   "source": [
    "Data_region_df.to_json(\"data_region_json.json\")"
   ]
  },
  {
   "cell_type": "markdown",
   "id": "22e2a37a",
   "metadata": {},
   "source": [
    "##### 1.4 - 1.5 Rows and Columns"
   ]
  },
  {
   "cell_type": "code",
   "execution_count": null,
   "id": "cad115fc",
   "metadata": {},
   "outputs": [],
   "source": [
    "print('columns x rows : ',Data_region_df.size) \n",
    "print('no of rows, no of columns : ',Data_region_df.shape)  \n",
    "print('no. of columns : ',len(Data_region_df.columns)) \n",
    "print('no. of rows    : ',len(Data_region_df.index)) "
   ]
  },
  {
   "cell_type": "markdown",
   "id": "044b19b7",
   "metadata": {},
   "source": [
    "------------------------------------------------------------------------------------------------------------------------------"
   ]
  },
  {
   "cell_type": "code",
   "execution_count": null,
   "id": "32ac084a",
   "metadata": {},
   "outputs": [],
   "source": [
    "fig = px.scatter(Data_region_df_plots, x=\"Region\", y=[\"Sep-2001\",\"Dec-2001\"])\n",
    "fig.show()"
   ]
  },
  {
   "cell_type": "code",
   "execution_count": null,
   "id": "4aab5eda",
   "metadata": {},
   "outputs": [],
   "source": [
    "# applying the methodology to all the columns\n",
    "year_range = range(1,22)\n",
    "year_list = [\"%02d\" % x for x in year_range]\n",
    "\n",
    "for i in range(len(year_list)):\n",
    "    year='20'+year_list[i]\n",
    "    Data_region_df[year] = Data_region_df[[ x for x in Data_region_df.columns if year in x]].sum(axis=1)\n",
    "    i+=1"
   ]
  },
  {
   "cell_type": "code",
   "execution_count": null,
   "id": "cbad4a6a",
   "metadata": {},
   "outputs": [],
   "source": [
    "# Data_region_df.columns.values\n",
    "# Remove all columns between column name 'Sep-2001' to 'Jun-2021'\n",
    "Data_year = Data_region_df.drop(Data_region_df.loc[:, 'Sep-2001':'Jun-2021'].columns, axis = 1)"
   ]
  },
  {
   "cell_type": "code",
   "execution_count": null,
   "id": "a7bedead",
   "metadata": {},
   "outputs": [],
   "source": [
    "Data_year.head(2)"
   ]
  },
  {
   "cell_type": "markdown",
   "id": "2da3831f",
   "metadata": {},
   "source": [
    "##### 1.6 Table"
   ]
  },
  {
   "cell_type": "code",
   "execution_count": null,
   "id": "6a6869be",
   "metadata": {},
   "outputs": [],
   "source": [
    "column_names = [\"Field Name\", \"Description\", \"Pandas Data Type\",\"Data Scale\",\"Min Value\",\"Max Value\",\"Unique Values\",\"Missing Value Count\"]\n",
    "table = pd.DataFrame(columns = column_names)\n",
    "#table"
   ]
  },
  {
   "cell_type": "markdown",
   "id": "5604ab6f",
   "metadata": {},
   "source": [
    "There are 4 types of scales of measurement namely nominal, ordinal, internal and ratio.   "
   ]
  },
  {
   "cell_type": "code",
   "execution_count": null,
   "id": "64cb03e8",
   "metadata": {
    "scrolled": true
   },
   "outputs": [],
   "source": [
    "table['Field Name'] = Data_year.columns.values\n",
    "table['Pandas Data Type'] = Data_year.dtypes.values\n",
    "table['Data Scale'] = np.where(table['Pandas Data Type']=='object', 'Nominal', 'Ordinal')\n",
    "table['Max Value'] = Data_year.max().values\n",
    "table['Min Value'] = Data_year.min().values\n",
    "table['Unique Values'] = Data_year.nunique().values\n",
    "table['Missing Value Count'] = Data_year.isna().sum().values\n",
    "table"
   ]
  },
  {
   "cell_type": "markdown",
   "id": "76581614",
   "metadata": {},
   "source": [
    "##### 1.7 plotly charts"
   ]
  },
  {
   "cell_type": "markdown",
   "id": "ea4c94ce",
   "metadata": {},
   "source": [
    "_1.7.1 scatter plot_"
   ]
  },
  {
   "cell_type": "code",
   "execution_count": null,
   "id": "1b3c3a4e",
   "metadata": {},
   "outputs": [],
   "source": [
    "fig1 = px.scatter(Data_year, x=\"Region\", y=[\"2001\",\"2002\",\"2003\"])\n",
    "fig1.show()"
   ]
  },
  {
   "cell_type": "code",
   "execution_count": null,
   "id": "f76beb3c",
   "metadata": {},
   "outputs": [],
   "source": [
    "fig2 = px.scatter(Data_year, x=\"WorkType\", y=[\"2001\",\"2002\"], color=\"Region\", hover_data=['SeriesID'])\n",
    "fig2.show()"
   ]
  },
  {
   "cell_type": "markdown",
   "id": "411ac398",
   "metadata": {},
   "source": [
    "_1.7.2 pie chart_"
   ]
  },
  {
   "cell_type": "code",
   "execution_count": null,
   "id": "debc4a8f",
   "metadata": {},
   "outputs": [],
   "source": [
    "pie_chart = px.pie(data_frame = Data_year,values = '2001',names = 'Region',color= 'Region',title='Residential Building Work in 2001 according to Region')\n",
    "pie_chart"
   ]
  },
  {
   "cell_type": "markdown",
   "id": "e7fd1747",
   "metadata": {},
   "source": [
    "_1.7.3 bubble chart_"
   ]
  },
  {
   "cell_type": "code",
   "execution_count": null,
   "id": "67476e74",
   "metadata": {},
   "outputs": [],
   "source": [
    "melt_df = pd.melt(Data_year,id_vars=['SeriesID','Region','WorkType'],var_name='Year',value_name='Value')\n",
    "melt_df.head()"
   ]
  },
  {
   "cell_type": "code",
   "execution_count": null,
   "id": "93f03431",
   "metadata": {},
   "outputs": [],
   "source": [
    "fig3 = px.scatter(melt_df, x=\"Year\", y=\"Region\",size=\"Value\", color=\"Region\", hover_name=\"WorkType\", log_x=True, size_max=60)\n",
    "fig3.show()"
   ]
  },
  {
   "cell_type": "markdown",
   "id": "1f6f6cf0",
   "metadata": {},
   "source": [
    "_1.7.4 bar chart_"
   ]
  },
  {
   "cell_type": "code",
   "execution_count": null,
   "id": "0b28be89",
   "metadata": {},
   "outputs": [],
   "source": [
    "df_2001=melt_df[melt_df['Year']=='2001']\n",
    "fig = px.bar(df_2001, x=\"Value\", y=\"WorkType\", color=\"Region\", title=\"Bar Chart\")\n",
    "fig.show()"
   ]
  },
  {
   "cell_type": "markdown",
   "id": "a484cc7e",
   "metadata": {},
   "source": [
    "_1.7.5 Histogram_"
   ]
  },
  {
   "cell_type": "code",
   "execution_count": null,
   "id": "764e91f3",
   "metadata": {},
   "outputs": [],
   "source": [
    "fig = px.histogram(df_2001, x=\"Value\", color=\"Region\")\n",
    "fig.show()"
   ]
  },
  {
   "cell_type": "markdown",
   "id": "6e9cc499",
   "metadata": {},
   "source": [
    "_1.7.6 maps_"
   ]
  },
  {
   "cell_type": "code",
   "execution_count": null,
   "id": "77110241",
   "metadata": {},
   "outputs": [],
   "source": [
    "import os\n",
    "import folium\n",
    "from folium import plugins\n",
    "import ipywidgets\n",
    "import geocoder\n",
    "import geopy\n",
    "from geopy.geocoders import Nominatim "
   ]
  },
  {
   "cell_type": "code",
   "execution_count": null,
   "id": "5200c316",
   "metadata": {},
   "outputs": [],
   "source": [
    "import requests\n",
    "import json"
   ]
  },
  {
   "cell_type": "code",
   "execution_count": null,
   "id": "4056e174",
   "metadata": {},
   "outputs": [],
   "source": [
    "Data_maps = Data_year.copy()"
   ]
  },
  {
   "cell_type": "code",
   "execution_count": null,
   "id": "0c44c1e5",
   "metadata": {},
   "outputs": [],
   "source": [
    "Data_maps['latitude'] = np.nan\n",
    "Data_maps['longitude'] = np.nan\n",
    "Data_maps.head(2)"
   ]
  },
  {
   "cell_type": "code",
   "execution_count": null,
   "id": "b7cce635",
   "metadata": {},
   "outputs": [],
   "source": [
    "Data_maps['Region'] = Data_maps['Region'].str.rstrip()\n",
    "Data_maps['Region'] = Data_maps['Region'].str.lstrip()\n",
    "# Data_maps['Region'] = Data_maps['Region'].str.replace(\" \",\"\")"
   ]
  },
  {
   "cell_type": "code",
   "execution_count": null,
   "id": "2b65413a",
   "metadata": {},
   "outputs": [],
   "source": [
    "Data_maps['Region'].unique()"
   ]
  },
  {
   "cell_type": "code",
   "execution_count": null,
   "id": "71924402",
   "metadata": {},
   "outputs": [],
   "source": [
    "Data_maps"
   ]
  },
  {
   "cell_type": "code",
   "execution_count": null,
   "id": "eb004d67",
   "metadata": {},
   "outputs": [],
   "source": [
    "col_names = [\"Region\", \"Latitude\", \"Longitude\"]\n",
    "map_df = pd.DataFrame(columns = col_names)\n",
    "map_df"
   ]
  },
  {
   "cell_type": "code",
   "execution_count": null,
   "id": "347c3fcd",
   "metadata": {},
   "outputs": [],
   "source": [
    "places = Data_maps['Region'].unique()\n",
    "#places = [x.rstrip(' ') for x in places]\n",
    "places"
   ]
  },
  {
   "cell_type": "code",
   "execution_count": null,
   "id": "9ab30865",
   "metadata": {
    "scrolled": true
   },
   "outputs": [],
   "source": [
    "for i in places:\n",
    "    parameters = {\n",
    "        'key' : 'WUS5vAMI6fT412iMzgIe398Itfwvty06',\n",
    "        'location' : i\n",
    "    }\n",
    "    response = requests.get('http://www.mapquestapi.com/geocoding/v1/address',params = parameters )\n",
    "    #print(response.text)\n",
    "    data = json.loads(response.text)['results']\n",
    "\n",
    "    lat = data[0]['locations'][0]['latLng']['lat']\n",
    "    lng = data[0]['locations'][0]['latLng']['lng']\n",
    "    \n",
    "    map_df.at[i,'Region'] = i\n",
    "    map_df.at[i,'Latitude'] = lat\n",
    "    map_df.at[i,'Longitude'] = lng"
   ]
  },
  {
   "cell_type": "code",
   "execution_count": null,
   "id": "45e7d125",
   "metadata": {},
   "outputs": [],
   "source": [
    "map_df"
   ]
  },
  {
   "cell_type": "code",
   "execution_count": null,
   "id": "c1d34649",
   "metadata": {},
   "outputs": [],
   "source": [
    "map1 = folium.Map(location=[-24.30891080919393, 134.79035784459924],zoom_start=3,width=500,height=300,control_scale=True)\n",
    "\n",
    "folium.raster_layers.TileLayer('Open Street Map').add_to(map1)\n",
    "folium.raster_layers.TileLayer('Stamen Terrain').add_to(map1)\n",
    "folium.raster_layers.TileLayer('CartoDB Positron').add_to(map1)\n",
    "folium.LayerControl().add_to(map1)\n",
    "    \n",
    "for (index, row) in map_df.iterrows():\n",
    "    folium.Marker(location=[row.loc['Latitude'],row.loc['Longitude']],\n",
    "                 popup = row.loc['Region'],\n",
    "                 tooltip='click').add_to(map1)\n",
    "\n",
    "map1"
   ]
  },
  {
   "cell_type": "markdown",
   "id": "3a203dc8",
   "metadata": {},
   "source": [
    "##### 1.8 Correlation"
   ]
  },
  {
   "cell_type": "markdown",
   "id": "b689a76d",
   "metadata": {},
   "source": [
    "Pearson correlation\n",
    ">The Pearson correlation evaluates the linear relationship between two continuous variables. A relationship is linear when a change in one variable is associated with a proportional change in the other variable."
   ]
  },
  {
   "cell_type": "code",
   "execution_count": null,
   "id": "2c1d9d21",
   "metadata": {},
   "outputs": [],
   "source": [
    "pearson_df = Data_year.loc[:,Data_year.columns[3:]]\n",
    "pearson_corr=pearson_df.corr()\n",
    "pearson_corr"
   ]
  },
  {
   "cell_type": "code",
   "execution_count": null,
   "id": "a61b690c",
   "metadata": {},
   "outputs": [],
   "source": [
    "import plotly.figure_factory as ff\n",
    "fig = px.imshow(pearson_corr)\n",
    "fig.show()"
   ]
  },
  {
   "cell_type": "markdown",
   "id": "547d16a3",
   "metadata": {},
   "source": [
    "Spearman Correlation\n",
    ">The Spearman correlation evaluates the monotonic relationship between two continuous or ordinal variables. In a monotonic relationship, the variables tend to change together, but not necessarily at a constant rate. "
   ]
  },
  {
   "cell_type": "code",
   "execution_count": null,
   "id": "be7ea0d8",
   "metadata": {},
   "outputs": [],
   "source": [
    "sp_df = Data_year.loc[:,Data_year.columns[3:]]\n",
    "spearman_corr=sp_df.corr(method=\"spearman\")\n",
    "spearman_corr"
   ]
  },
  {
   "cell_type": "code",
   "execution_count": null,
   "id": "4265179d",
   "metadata": {},
   "outputs": [],
   "source": [
    "fig = px.imshow(spearman_corr)\n",
    "fig.show()"
   ]
  },
  {
   "cell_type": "markdown",
   "id": "a8b1aed1",
   "metadata": {},
   "source": [
    "##### 1.9 Folium Maps"
   ]
  },
  {
   "cell_type": "code",
   "execution_count": null,
   "id": "685d3468",
   "metadata": {},
   "outputs": [],
   "source": [
    "Data_maps_folium = Data_maps.copy()\n",
    "Data_maps_folium = Data_maps_folium.set_index('Region')\n",
    "Data_maps_folium.head(2)"
   ]
  },
  {
   "cell_type": "code",
   "execution_count": null,
   "id": "e272f3db",
   "metadata": {},
   "outputs": [],
   "source": [
    "map_df_folium = map_df.copy()\n",
    "map_df_folium = map_df.set_index('Region')\n",
    "map_df_folium = map_df_folium.rename(columns={'Latitude': 'latitude', 'Longitude': 'longitude'})\n",
    "map_df_folium"
   ]
  },
  {
   "cell_type": "code",
   "execution_count": null,
   "id": "21bc85e6",
   "metadata": {},
   "outputs": [],
   "source": [
    "Data_maps_folium.update(map_df_folium)\n",
    "Data_maps_folium.head(2)"
   ]
  },
  {
   "cell_type": "code",
   "execution_count": null,
   "id": "81bc1754",
   "metadata": {},
   "outputs": [],
   "source": [
    "for i in places:\n",
    "    parameters = {\n",
    "        'key' : 'WUS5vAMI6fT412iMzgIe398Itfwvty06',\n",
    "        'location' : i\n",
    "    }\n",
    "    response = requests.get('http://www.mapquestapi.com/geocoding/v1/address',params = parameters )\n",
    "    #print(response.text)\n",
    "    data = json.loads(response.text)['results']\n",
    "\n",
    "    lat = data[0]['locations'][0]['latLng']['lat']\n",
    "    lng = data[0]['locations'][0]['latLng']['lng']\n",
    "    \n",
    "    map_df.at[i,'Region'] = i\n",
    "    map_df.at[i,'Latitude'] = lat\n",
    "    map_df.at[i,'Longitude'] = lng"
   ]
  },
  {
   "cell_type": "code",
   "execution_count": null,
   "id": "a2f211d2",
   "metadata": {},
   "outputs": [],
   "source": [
    "x = Data_maps.groupby(\"Region\").mean()\n",
    "x.update(map_df_folium)"
   ]
  },
  {
   "cell_type": "code",
   "execution_count": null,
   "id": "3bd6337d",
   "metadata": {
    "scrolled": true
   },
   "outputs": [],
   "source": [
    "x"
   ]
  },
  {
   "cell_type": "code",
   "execution_count": null,
   "id": "bdbd34f1",
   "metadata": {},
   "outputs": [],
   "source": [
    "x['Region'] = x.index\n",
    "x.reset_index(drop=True, inplace=True)\n",
    "x.head(2)"
   ]
  },
  {
   "cell_type": "code",
   "execution_count": null,
   "id": "3f857e09",
   "metadata": {},
   "outputs": [],
   "source": [
    "map2 = folium.Map(location=[-24.30891080919393, 134.79035784459924],zoom_start=3,width=500,height=300,control_scale=True)\n",
    "borderStyle = {'color':'green','weight':1, 'fill':False}\n",
    "\n",
    "folium.GeoJson(data='australian_states.geojson',\n",
    "              name = 'borders',\n",
    "              style_function = lambda x: borderStyle).add_to(map2)\n",
    "\n",
    "stateLayer = folium.FeatureGroup('Australian States').add_to(map2)\n",
    "\n",
    "for i in range(len(x)):\n",
    "    latStr = x.iloc[i]['latitude']\n",
    "    lngStr = x.iloc[i]['longitude']\n",
    "    region = x.iloc[i]['Region']\n",
    "    yr2001 = x.iloc[i]['2001']\n",
    "    cRad = yr2001\n",
    "    folium.Circle(\n",
    "        location= [latStr,lngStr],\n",
    "        radius = cRad,\n",
    "        weight = 1,\n",
    "        fill=True\n",
    "    ).add_to(map2)\n",
    "\n",
    "folium.LayerControl().add_to(map2)\n",
    "map2"
   ]
  },
  {
   "cell_type": "markdown",
   "id": "00afb2cd",
   "metadata": {},
   "source": [
    "##### 1.10 Summary statistics"
   ]
  },
  {
   "cell_type": "code",
   "execution_count": null,
   "id": "914966db",
   "metadata": {},
   "outputs": [],
   "source": [
    "Data_year.groupby(\"Region\").mean()"
   ]
  },
  {
   "cell_type": "code",
   "execution_count": null,
   "id": "e33f9707",
   "metadata": {},
   "outputs": [],
   "source": [
    "Data_year.describe()"
   ]
  },
  {
   "cell_type": "code",
   "execution_count": null,
   "id": "7ce21a9b",
   "metadata": {},
   "outputs": [],
   "source": [
    "Data_year.groupby(\"WorkType\")[\"2001\"].count()"
   ]
  },
  {
   "cell_type": "code",
   "execution_count": null,
   "id": "fcb259aa",
   "metadata": {},
   "outputs": [],
   "source": [
    "Data_year.groupby(\"Region\")[\"2001\"].count()"
   ]
  },
  {
   "cell_type": "code",
   "execution_count": null,
   "id": "29db2d05",
   "metadata": {},
   "outputs": [],
   "source": [
    "Data_year.groupby([\"WorkType\",\"Region\"])['2001'].mean()"
   ]
  },
  {
   "cell_type": "markdown",
   "id": "6f653f35",
   "metadata": {},
   "source": [
    "### Section 2 : Data Australia (Summary)"
   ]
  },
  {
   "cell_type": "code",
   "execution_count": null,
   "id": "06c33973",
   "metadata": {},
   "outputs": [],
   "source": [
    "# gaining formatted data from the xls file\n",
    "Data_aus = pd.read_excel('87520072.xls', sheet_name= \"Data_Aus_T\")\n",
    "Data_aus_df = pd.DataFrame(Data_aus)\n",
    "Data_aus_df.head(2)"
   ]
  },
  {
   "cell_type": "code",
   "execution_count": null,
   "id": "5e7b20cd",
   "metadata": {},
   "outputs": [],
   "source": [
    "# renaming the columns of the data frame \n",
    "for col in Data_aus_df.columns[2:82]:\n",
    "    try:\n",
    "        date = str(col.strftime(\"%b-%Y\"))\n",
    "    except AttributeError:\n",
    "        continue\n",
    "    Data_aus_df.rename(columns={col:date}, inplace=True)\n",
    "Data_aus_df.head(2)"
   ]
  },
  {
   "cell_type": "markdown",
   "id": "7bcffa05",
   "metadata": {},
   "source": [
    "#### Pandas Profiling"
   ]
  },
  {
   "cell_type": "code",
   "execution_count": null,
   "id": "66936ac6",
   "metadata": {},
   "outputs": [],
   "source": [
    "profile = ProfileReport(Data_aus_df,title='Pandas Profiling Report',html={'style':{'full_width':True}})"
   ]
  },
  {
   "cell_type": "code",
   "execution_count": null,
   "id": "36394f19",
   "metadata": {},
   "outputs": [],
   "source": [
    "#profile"
   ]
  },
  {
   "cell_type": "markdown",
   "id": "90ca3d25",
   "metadata": {},
   "source": [
    "##### Pandas dtale"
   ]
  },
  {
   "cell_type": "code",
   "execution_count": null,
   "id": "67d14387",
   "metadata": {
    "scrolled": true
   },
   "outputs": [],
   "source": [
    "dtale.show(Data_aus_df)"
   ]
  },
  {
   "cell_type": "markdown",
   "id": "9c14857d",
   "metadata": {},
   "source": []
  }
 ],
 "metadata": {
  "kernelspec": {
   "display_name": "Python 3",
   "language": "python",
   "name": "python3"
  },
  "language_info": {
   "codemirror_mode": {
    "name": "ipython",
    "version": 3
   },
   "file_extension": ".py",
   "mimetype": "text/x-python",
   "name": "python",
   "nbconvert_exporter": "python",
   "pygments_lexer": "ipython3",
   "version": "3.8.8"
  }
 },
 "nbformat": 4,
 "nbformat_minor": 5
}
