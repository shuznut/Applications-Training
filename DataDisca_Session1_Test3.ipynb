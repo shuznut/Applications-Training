{
 "cells": [
  {
   "cell_type": "markdown",
   "id": "490bda2e",
   "metadata": {},
   "source": [
    "Refer DataDisca_Session1_Test4 (updated document)"
   ]
  },
  {
   "cell_type": "markdown",
   "id": "37fef249",
   "metadata": {},
   "source": [
    "###### Installation"
   ]
  },
  {
   "cell_type": "code",
   "execution_count": null,
   "id": "599f35d6",
   "metadata": {},
   "outputs": [],
   "source": [
    "# This is to install libraries from jupyter notebook, but not working\n",
    "#Installing Plotly & Cufflinks pip install plotly pip install cufflinks"
   ]
  },
  {
   "cell_type": "code",
   "execution_count": null,
   "id": "4d287150",
   "metadata": {},
   "outputs": [],
   "source": [
    "pip install plotly"
   ]
  },
  {
   "cell_type": "markdown",
   "id": "c665dd14",
   "metadata": {},
   "source": [
    "###### Imports"
   ]
  },
  {
   "cell_type": "code",
   "execution_count": null,
   "id": "96f0dd8b",
   "metadata": {},
   "outputs": [],
   "source": [
    "# importing necessary libraries\n",
    "import numpy as np\n",
    "import pandas as pd\n",
    "import chart_studio.plotly as py\n",
    "import seaborn as sns\n",
    "import plotly.express as px\n",
    "from pandas_profiling import ProfileReport\n",
    "%matplotlib "
   ]
  },
  {
   "cell_type": "markdown",
   "id": "7dac13da",
   "metadata": {},
   "source": [
    "### Section 1 : Data varying according to regions"
   ]
  },
  {
   "cell_type": "code",
   "execution_count": null,
   "id": "bbea77a9",
   "metadata": {
    "scrolled": true
   },
   "outputs": [],
   "source": [
    "# gaining formatted data from the xls file\n",
    "Data_region = pd.read_excel('87520072.xls', sheet_name= \"Data_region_T\")\n",
    "Data_region_df = pd.DataFrame(Data_region)\n",
    "Data_region_df.head(2)"
   ]
  },
  {
   "cell_type": "code",
   "execution_count": null,
   "id": "3479d60f",
   "metadata": {},
   "outputs": [],
   "source": [
    "#df.iloc[row_start:row_end , col_start, col_end]\n",
    "Data_region_df=Data_region_df.iloc[:,:-2]\n",
    "Data_region_df.head(2)"
   ]
  },
  {
   "cell_type": "code",
   "execution_count": null,
   "id": "b35636e6",
   "metadata": {},
   "outputs": [],
   "source": [
    "from datetime import datetime \n",
    "import calendar"
   ]
  },
  {
   "cell_type": "code",
   "execution_count": null,
   "id": "a39ab017",
   "metadata": {},
   "outputs": [],
   "source": [
    "# module:datetime, class:datetime\n",
    "for x in Data_region_df.columns.values[3:83]:\n",
    "    x = str(x.strftime(\"%b-%Y\"))\n",
    "    #print(x)"
   ]
  },
  {
   "cell_type": "code",
   "execution_count": null,
   "id": "04f5060c",
   "metadata": {},
   "outputs": [],
   "source": [
    "# another method to extract month-Year\n",
    "\n",
    "for col in Data_region_df.columns[3:83]: \n",
    "        col = col.date()\n",
    "        #print((calendar.month_abbr[col.month]),'-',str(col.year))"
   ]
  },
  {
   "cell_type": "code",
   "execution_count": null,
   "id": "3a3c2245",
   "metadata": {},
   "outputs": [],
   "source": [
    "# renaming the columns of the dataframe\n",
    "for col in Data_region_df.columns[3:83]:\n",
    "    try:\n",
    "        date = str(col.strftime(\"%b-%Y\"))\n",
    "    except AttributeError:\n",
    "        continue\n",
    "    Data_region_df.rename(columns={col:date}, inplace=True)"
   ]
  },
  {
   "cell_type": "code",
   "execution_count": null,
   "id": "6ebeb6b5",
   "metadata": {},
   "outputs": [],
   "source": [
    "# displaying the updated dataframe\n",
    "Data_region_df.head(2)"
   ]
  },
  {
   "cell_type": "code",
   "execution_count": null,
   "id": "929c3986",
   "metadata": {},
   "outputs": [],
   "source": [
    "# to have an idea about data types\n",
    "# Data_region_df.info()"
   ]
  },
  {
   "cell_type": "code",
   "execution_count": null,
   "id": "e5c61d50",
   "metadata": {},
   "outputs": [],
   "source": [
    "# accessing the cells of the dataframe\n",
    "print(type(Data_region_df.iat[3,2]))"
   ]
  },
  {
   "cell_type": "code",
   "execution_count": null,
   "id": "11bf18eb",
   "metadata": {},
   "outputs": [],
   "source": [
    "# for rowIndex, row in Data_region_df.iterrows(): #iterate over rows\n",
    "#     for columnIndex, value in row.items():\n",
    "#         print(value, inplace=True)"
   ]
  },
  {
   "cell_type": "markdown",
   "id": "9b61d711",
   "metadata": {},
   "source": [
    "##### pandas profiling "
   ]
  },
  {
   "cell_type": "code",
   "execution_count": null,
   "id": "f7138199",
   "metadata": {},
   "outputs": [],
   "source": [
    "from pandas_profiling import ProfileReport\n",
    "import sweetviz"
   ]
  },
  {
   "cell_type": "code",
   "execution_count": null,
   "id": "dbf1faf6",
   "metadata": {},
   "outputs": [],
   "source": [
    "profile1 = ProfileReport(Data_region_df, title=\"Pandas Profiling Report\", explorative=True)"
   ]
  },
  {
   "cell_type": "code",
   "execution_count": null,
   "id": "7c832ee2",
   "metadata": {},
   "outputs": [],
   "source": [
    "#profile1.to_widgets() "
   ]
  },
  {
   "cell_type": "code",
   "execution_count": null,
   "id": "3bd62236",
   "metadata": {},
   "outputs": [],
   "source": [
    "#profile1.to_file(\"data_region.html\")"
   ]
  },
  {
   "cell_type": "markdown",
   "id": "a524af1e",
   "metadata": {},
   "source": [
    "##### 1.1 saving files in csv and json formats (2&3)"
   ]
  },
  {
   "cell_type": "code",
   "execution_count": null,
   "id": "54bd4a85",
   "metadata": {},
   "outputs": [],
   "source": [
    "Data_region_df.to_csv(\"data_region_csv.csv\")"
   ]
  },
  {
   "cell_type": "code",
   "execution_count": null,
   "id": "62f78490",
   "metadata": {},
   "outputs": [],
   "source": [
    "Data_region_df.to_json(\"data_region_json.json\")"
   ]
  },
  {
   "cell_type": "markdown",
   "id": "0e688083",
   "metadata": {},
   "source": [
    "##### 1.2 columns and rows (4&5)"
   ]
  },
  {
   "cell_type": "code",
   "execution_count": null,
   "id": "52558710",
   "metadata": {},
   "outputs": [],
   "source": [
    "print('columns x rows : ',Data_region_df.size) \n",
    "print('no of rows, no of columns : ',Data_region_df.shape)  \n",
    "print('no. of columns : ',len(Data_region_df.columns)) \n",
    "print('no. of rows    : ',len(Data_region_df.index)) "
   ]
  },
  {
   "cell_type": "markdown",
   "id": "1be21cf3",
   "metadata": {},
   "source": [
    "##### 1.3 filling the table (6)"
   ]
  },
  {
   "cell_type": "code",
   "execution_count": null,
   "id": "3cbfb621",
   "metadata": {},
   "outputs": [],
   "source": [
    "# adding minimum value as a column to the dataset\n",
    "minValuesObj = Data_region_df.min(axis=1)\n",
    "Data_region_df['MinValue'] = minValuesObj\n",
    "\n",
    "# adding maximum value as a column to the dataset\n",
    "maxValuesObj = Data_region_df.max(axis=1)\n",
    "Data_region_df['MaxValue'] = maxValuesObj\n",
    "\n",
    "Data_region_df.head(2)"
   ]
  },
  {
   "cell_type": "code",
   "execution_count": null,
   "id": "14b1d6d3",
   "metadata": {},
   "outputs": [],
   "source": [
    "# loc: selecting by labels[rows,columns] , here : -means all , 0:3 - when you need a block of them (inclusive both sides)\n",
    "uniqueValuesObj = Data_region_df.loc[:,Data_region_df.columns[3:-2]].nunique(axis=1)\n",
    "uniqueValuesObj"
   ]
  },
  {
   "cell_type": "code",
   "execution_count": null,
   "id": "aee3da4c",
   "metadata": {},
   "outputs": [],
   "source": [
    "#adding uniques values as a column to the dataset\n",
    "Data_region_df['UniqueValues'] = uniqueValuesObj\n",
    "Data_region_df.head(2)"
   ]
  },
  {
   "cell_type": "code",
   "execution_count": null,
   "id": "1724bba2",
   "metadata": {},
   "outputs": [],
   "source": [
    "# finding the missing values of each row\n",
    "missingValsObj = Data_region_df.loc[:,Data_region_df.columns[3:-3]].isna().sum(axis=1)\n",
    "Data_region_df['Missing_Vals'] = missingValsObj\n",
    "Data_region_df.head(2)"
   ]
  },
  {
   "cell_type": "code",
   "execution_count": null,
   "id": "176e764f",
   "metadata": {},
   "outputs": [],
   "source": [
    "# Filled table : row-wise\n",
    "# Data Type is not defined as it varies and Data Scales are not defined \n",
    "Data_region_df[\"Description\"] = Data_region_df[\"Region\"] + Data_region_df[\"WorkType\"]\n",
    "Data_region_df[['SeriesID','Description','MinValue','MaxValue','UniqueValues','Missing_Vals']]"
   ]
  },
  {
   "cell_type": "code",
   "execution_count": null,
   "id": "509d6e3e",
   "metadata": {},
   "outputs": [],
   "source": [
    "Data_region_df1 = Data_region_df.loc[:,Data_region_df.columns[:-5]].T.reset_index()\n",
    "# reset_index adds up index to the dataframe\n",
    "Data_region_df1.head(2)"
   ]
  },
  {
   "cell_type": "code",
   "execution_count": null,
   "id": "5b4a6b1a",
   "metadata": {},
   "outputs": [],
   "source": [
    "# changing the 1st row as header row\n",
    "header_row = 0\n",
    "Data_region_df1.columns = Data_region_df1.iloc[header_row]\n",
    "Data_region_df1 = Data_region_df1.drop(header_row)\n",
    "Data_region_df1 = Data_region_df1.reset_index(drop=True)\n",
    "Data_region_df1.head(3)"
   ]
  },
  {
   "cell_type": "code",
   "execution_count": null,
   "id": "acd58e21",
   "metadata": {
    "scrolled": true
   },
   "outputs": [],
   "source": [
    "# accessing data of 1st column \n",
    "# apply(type) reveals the datatype of the accessed column cells\n",
    "# Data_region_df1['SeriesID'].iloc[:].apply(type)\n",
    "\n",
    "# adding datatype as a column to the dataset\n",
    "dtype_Obj = Data_region_df1['SeriesID'].iloc[:].apply(type)\n",
    "Data_region_df1['DataType'] = dtype_Obj\n",
    "\n",
    "Data_region_df1.head(2)"
   ]
  },
  {
   "cell_type": "markdown",
   "id": "57fed228",
   "metadata": {},
   "source": [
    "##### 1.4 plotly charts (7)"
   ]
  },
  {
   "cell_type": "markdown",
   "id": "55207746",
   "metadata": {},
   "source": [
    "###### 1.4.1 Scatter\n"
   ]
  },
  {
   "cell_type": "code",
   "execution_count": null,
   "id": "8ddfd54b",
   "metadata": {},
   "outputs": [],
   "source": [
    "import plotly\n",
    "import plotly.express as px"
   ]
  },
  {
   "cell_type": "code",
   "execution_count": null,
   "id": "8ca40ccd",
   "metadata": {},
   "outputs": [],
   "source": [
    "# removing the columns which contains summary details\n",
    "Data_region_df_plots = Data_region_df.iloc[:,:-5]\n",
    "Data_region_df_plots.head(2)"
   ]
  },
  {
   "cell_type": "code",
   "execution_count": null,
   "id": "34dea1ab",
   "metadata": {},
   "outputs": [],
   "source": [
    "print(Data_region_df_plots.shape)"
   ]
  },
  {
   "cell_type": "code",
   "execution_count": null,
   "id": "a98208e5",
   "metadata": {},
   "outputs": [],
   "source": [
    "# writing a loop to go through 2001-2021\n",
    "year_range = range(1,22)\n",
    "year_list = [\"%02d\" % x for x in year_range]\n",
    "\n",
    "for i in range(len(year_list)):\n",
    "    #print('20'+year_list[i])\n",
    "    i+=1"
   ]
  },
  {
   "cell_type": "code",
   "execution_count": null,
   "id": "f6cebb72",
   "metadata": {},
   "outputs": [],
   "source": [
    "# method to combine months from same year into a one column\n",
    "_df = pd.DataFrame() \n",
    "#_df['2001'] = Data_region_df_plots[[ x for x in Data_region_df_plots.columns if '2001' in x]].sum(axis=1)\n",
    "#_df['2002'] = Data_region_df_plots[[ x for x in Data_region_df_plots.columns if '2002' in x]].sum(axis=1)\n",
    "#_df"
   ]
  },
  {
   "cell_type": "code",
   "execution_count": null,
   "id": "e8b92ec9",
   "metadata": {},
   "outputs": [],
   "source": [
    "#Data_region_df_plots.loc[:,['2001' in i for i in Data_region_df_plots.columns]]"
   ]
  },
  {
   "cell_type": "code",
   "execution_count": null,
   "id": "452c054e",
   "metadata": {},
   "outputs": [],
   "source": [
    "# applying the methodology to all the columns\n",
    "year_range = range(1,22)\n",
    "year_list = [\"%02d\" % x for x in year_range]\n",
    "\n",
    "for i in range(len(year_list)):\n",
    "    year='20'+year_list[i]\n",
    "    _df[year] = Data_region_df_plots[[ x for x in Data_region_df_plots.columns if year in x]].sum(axis=1)\n",
    "    i+=1"
   ]
  },
  {
   "cell_type": "code",
   "execution_count": null,
   "id": "a98e5721",
   "metadata": {},
   "outputs": [],
   "source": [
    "#_df.head(2)"
   ]
  },
  {
   "cell_type": "code",
   "execution_count": null,
   "id": "cf60767b",
   "metadata": {},
   "outputs": [],
   "source": [
    "#print(_df.shape)"
   ]
  },
  {
   "cell_type": "code",
   "execution_count": null,
   "id": "6d49f4f8",
   "metadata": {},
   "outputs": [],
   "source": [
    "# combining the columns(relavant) of both dataframes \n",
    "# when using merge and join it gives an error as there are no common columns\n",
    "\n",
    "other_cols = Data_region_df_plots.loc[:, ['SeriesID','Region','WorkType']]\n",
    "other_cols['tmp']=1\n",
    "#other_cols\n",
    "\n",
    "_df['tmp']=1\n",
    "_df = pd.merge(other_cols, _df, on=['tmp'])\n",
    "_df = _df.drop('tmp', axis=1)\n",
    "_df.head(2)"
   ]
  },
  {
   "cell_type": "code",
   "execution_count": null,
   "id": "1596f06a",
   "metadata": {},
   "outputs": [],
   "source": [
    "df_year=_df\n",
    "# df_year.head(2)"
   ]
  },
  {
   "cell_type": "code",
   "execution_count": null,
   "id": "db3eadff",
   "metadata": {},
   "outputs": [],
   "source": [
    "#print(type(df_year.columns.values[3]))\n",
    "#print(df_year.columns.values[3])"
   ]
  },
  {
   "cell_type": "code",
   "execution_count": null,
   "id": "e82cfa9e",
   "metadata": {},
   "outputs": [],
   "source": [
    "# scatter plots comparing months in 2001 according to the region\n",
    "fig = px.scatter(Data_region_df_plots, x=\"Region\", y=[\"Sep-2001\",\"Dec-2001\"])\n",
    "fig.show()"
   ]
  },
  {
   "cell_type": "code",
   "execution_count": null,
   "id": "057c485e",
   "metadata": {},
   "outputs": [],
   "source": [
    "fig = px.scatter(Data_region_df_plots, x=\"WorkType\", y=[\"Sep-2001\",\"Dec-2001\"])\n",
    "fig.show()"
   ]
  },
  {
   "cell_type": "code",
   "execution_count": null,
   "id": "5f266716",
   "metadata": {},
   "outputs": [],
   "source": [
    "fig1 = px.scatter(Data_region_df_plots, x=\"WorkType\", y=[\"Sep-2001\",\"Dec-2001\"], color=\"Region\", hover_data=['SeriesID'])\n",
    "fig1.show()"
   ]
  },
  {
   "cell_type": "markdown",
   "id": "8268101c",
   "metadata": {},
   "source": [
    "###### pie charts"
   ]
  },
  {
   "cell_type": "code",
   "execution_count": null,
   "id": "f13adbc5",
   "metadata": {},
   "outputs": [],
   "source": [
    "region = df_year.groupby('Region').sum('count')\n",
    "region.columns.values[0]\n",
    "#region.index\n",
    "#region\n",
    "# adding another column as index \n",
    "region['Region'] =region.index\n",
    "region.head(2)\n",
    "#type(region)"
   ]
  },
  {
   "cell_type": "code",
   "execution_count": null,
   "id": "ec058e52",
   "metadata": {},
   "outputs": [],
   "source": [
    "# dropping the current index column\n",
    "region.reset_index(drop=True, inplace=True)\n",
    "region.head(2)"
   ]
  },
  {
   "cell_type": "code",
   "execution_count": null,
   "id": "a4f68fa8",
   "metadata": {},
   "outputs": [],
   "source": [
    "# taking last column as first column\n",
    "first_column = region.pop('Region')\n",
    "region.insert(0, 'Region', first_column)\n",
    "region.head(2)"
   ]
  },
  {
   "cell_type": "code",
   "execution_count": null,
   "id": "148d962f",
   "metadata": {},
   "outputs": [],
   "source": [
    "region.loc[:,['2001']]"
   ]
  },
  {
   "cell_type": "code",
   "execution_count": null,
   "id": "075910f7",
   "metadata": {},
   "outputs": [],
   "source": [
    "pie_chart = px.pie(data_frame = region,values = '2001',names = 'Region',color= 'Region',title='Residential Building Work in 2001 according to Region')\n",
    "pie_chart"
   ]
  },
  {
   "cell_type": "markdown",
   "id": "a3a2ff28",
   "metadata": {},
   "source": [
    "Here for each territory, the number of residential building are same. If we go through the dat frame we can examine the same thing. "
   ]
  },
  {
   "cell_type": "code",
   "execution_count": null,
   "id": "a2024a11",
   "metadata": {},
   "outputs": [],
   "source": [
    "header=region.head(1).T.iloc[0]\n",
    "region_T_Aus = region.head(1).T[1:]\n",
    "region_T_Aus.columns = header\n",
    "region_T_Aus['Year'] =region_T_Aus.index\n",
    "region_T_Aus.reset_index(drop=True, inplace=True)\n",
    "#type(region_T_Aus)\n",
    "pie_chart1 = px.pie(data_frame = region_T_Aus,values = '   Australian Capital Territory ',names = 'Year',color= 'Year',title='Australian Capital Territory residental building according to Years')\n",
    "pie_chart1"
   ]
  },
  {
   "cell_type": "markdown",
   "id": "6d200f93",
   "metadata": {},
   "source": [
    "Here we can see that the no of buildings have increased when the time passes by but not continuously."
   ]
  },
  {
   "cell_type": "code",
   "execution_count": null,
   "id": "0a0b3b83",
   "metadata": {},
   "outputs": [],
   "source": [
    "worktype = df_year.groupby('WorkType').sum('count')\n",
    "worktype.head(2)"
   ]
  },
  {
   "cell_type": "code",
   "execution_count": null,
   "id": "cf351db5",
   "metadata": {},
   "outputs": [],
   "source": [
    "worktype_Agedcare=worktype.head(1).T\n",
    "#type(worktype_Agedcare)\n",
    "#worktype_Agedcare\n",
    "worktype_Agedcare['Year'] =worktype_Agedcare.index\n",
    "worktype_Agedcare.reset_index(drop=True, inplace=True)\n",
    "\n",
    "pie_chart2 = px.pie(data_frame = worktype_Agedcare,values = '  Aged care facilities ',names = 'Year',color= 'Year',title='Aged care facility residental building according to Years')\n",
    "pie_chart2"
   ]
  },
  {
   "cell_type": "markdown",
   "id": "09d998c1",
   "metadata": {},
   "source": [
    "In worktype dataframe also non residentail buildings under different categories are same. But it changes according to year with same values. "
   ]
  },
  {
   "cell_type": "markdown",
   "id": "98f7ace2",
   "metadata": {},
   "source": [
    "##### Animated Scatterplot"
   ]
  },
  {
   "cell_type": "code",
   "execution_count": null,
   "id": "5d04e7f8",
   "metadata": {},
   "outputs": [],
   "source": [
    "# here I am going to use pandas melt, melt is used to reshape data, output = dataframe\n",
    "melt_df = pd.melt(_df,id_vars=['SeriesID','Region','WorkType'],var_name='Year',value_name='Value')\n",
    "# to have some filtered data we can use as below\n",
    "#melt_df[melt_df['Year']=='2001']\n"
   ]
  },
  {
   "cell_type": "code",
   "execution_count": null,
   "id": "d4bfdebf",
   "metadata": {},
   "outputs": [],
   "source": [
    "import plotly.io as pio\n",
    "animated_plot=px.scatter(melt_df, x = 'Value', y = 'Region', color='WorkType',animation_frame='Year', title='Summary')\n",
    "pio.show(animated_plot)"
   ]
  },
  {
   "cell_type": "markdown",
   "id": "439a5c62",
   "metadata": {},
   "source": [
    "###### bubble charts"
   ]
  },
  {
   "cell_type": "code",
   "execution_count": null,
   "id": "7eec5e40",
   "metadata": {},
   "outputs": [],
   "source": [
    "#_df.head(2)\n",
    "#region.head(2)\n",
    "#worktype.head(2)\n",
    "#Data_region_df_plots.head(2) --> with months\n",
    "#melt_df.head(2)\n",
    "#melt_df['Year'].dtypes"
   ]
  },
  {
   "cell_type": "code",
   "execution_count": null,
   "id": "11ff3edb",
   "metadata": {},
   "outputs": [],
   "source": [
    "melt_df['Year'] = pd.to_numeric(melt_df['Year'])"
   ]
  },
  {
   "cell_type": "code",
   "execution_count": null,
   "id": "d70e7e7d",
   "metadata": {},
   "outputs": [],
   "source": [
    "import plotly.graph_objects as go\n",
    "import plotly.offline as pyo\n",
    "#Plotly allows you to generate graphs offline and save them in local machine"
   ]
  },
  {
   "cell_type": "code",
   "execution_count": null,
   "id": "ff13c12c",
   "metadata": {},
   "outputs": [],
   "source": [
    "fig = px.scatter(melt_df, x=\"Year\", y=\"Region\",size=\"Value\", color=\"Region\", hover_name=\"WorkType\", log_x=True, size_max=60)\n",
    "fig.show()"
   ]
  },
  {
   "cell_type": "code",
   "execution_count": null,
   "id": "84e35b1b",
   "metadata": {},
   "outputs": [],
   "source": [
    "fig = px.scatter(melt_df, x=\"Value\", y=\"Region\",size='Year', color=\"Region\", hover_name=\"WorkType\", log_x=True, size_max=60)\n",
    "fig.show()"
   ]
  },
  {
   "cell_type": "markdown",
   "id": "ea31e927",
   "metadata": {},
   "source": [
    "##### Bar Chart"
   ]
  },
  {
   "cell_type": "code",
   "execution_count": null,
   "id": "320fa402",
   "metadata": {},
   "outputs": [],
   "source": [
    "df_2001=melt_df[melt_df['Year']=='2001']\n",
    "fig = px.bar(df_2001, x=\"Value\", y=\"WorkType\", color=\"Region\", title=\"Bar Chart\")\n",
    "fig.show()\n",
    "#print(type(df_2001))"
   ]
  },
  {
   "cell_type": "markdown",
   "id": "09747061",
   "metadata": {},
   "source": [
    "##### Histogram"
   ]
  },
  {
   "cell_type": "code",
   "execution_count": null,
   "id": "8522af12",
   "metadata": {},
   "outputs": [],
   "source": [
    "fig = px.histogram(df_2001, x=\"Value\", color=\"Region\")\n",
    "fig.show()"
   ]
  },
  {
   "cell_type": "markdown",
   "id": "9b654320",
   "metadata": {},
   "source": [
    "##### Maps"
   ]
  },
  {
   "cell_type": "markdown",
   "id": "61ba2cf1",
   "metadata": {},
   "source": [
    ">Cufflinks is another library that connects the Pandas data frame with Plotly enabling users to create visualizations directly from Pandas. The library binds the power of Plotly with the flexibility of Pandas for easy plotting."
   ]
  },
  {
   "cell_type": "markdown",
   "id": "e48b3b91",
   "metadata": {},
   "source": [
    "### Pearson Correlation"
   ]
  },
  {
   "cell_type": "code",
   "execution_count": null,
   "id": "7f8b8940",
   "metadata": {},
   "outputs": [],
   "source": [
    "pearson_df = _df.loc[:,_df.columns[3:]]\n",
    "pearson_corr=pearson_df.corr()\n",
    "pearson_corr"
   ]
  },
  {
   "cell_type": "code",
   "execution_count": null,
   "id": "ab7487d7",
   "metadata": {},
   "outputs": [],
   "source": [
    "import plotly.figure_factory as ff\n",
    "fig = px.imshow(pearson_corr)\n",
    "fig.show()\n",
    "#fig = ff.create_annotated_heatmap(cor_df)"
   ]
  },
  {
   "cell_type": "markdown",
   "id": "4a834c8f",
   "metadata": {},
   "source": [
    "### Spearman Correlation"
   ]
  },
  {
   "cell_type": "markdown",
   "id": "a02ad769",
   "metadata": {},
   "source": [
    "Here it is represented how to convert ordinal field to a scale variable"
   ]
  },
  {
   "cell_type": "code",
   "execution_count": null,
   "id": "2e52c660",
   "metadata": {},
   "outputs": [],
   "source": [
    "spearman_df = _df.loc[:,_df.columns[1:3]]\n",
    "spearman_df.head(2)"
   ]
  },
  {
   "cell_type": "code",
   "execution_count": null,
   "id": "cf42589c",
   "metadata": {},
   "outputs": [],
   "source": [
    "spearman_df['Region'].unique()"
   ]
  },
  {
   "cell_type": "code",
   "execution_count": null,
   "id": "2c380288",
   "metadata": {},
   "outputs": [],
   "source": [
    "reg_code = {'   New South Wales ':1, '   Victoria ':2, '   Queensland ':3,\n",
    "       '   South Australia ':4, '   Western Australia ':5, '   Tasmania ':6,\n",
    "       '   Northern Territory ':7, '   Australian Capital Territory ':8}"
   ]
  },
  {
   "cell_type": "code",
   "execution_count": null,
   "id": "41f22ca4",
   "metadata": {},
   "outputs": [],
   "source": [
    "spearman_df['Region_code']= spearman_df['Region'].replace(reg_code)"
   ]
  },
  {
   "cell_type": "code",
   "execution_count": null,
   "id": "a1ef6623",
   "metadata": {},
   "outputs": [],
   "source": [
    "#spearman_df['Region_code'].value_counts()"
   ]
  },
  {
   "cell_type": "markdown",
   "id": "89686369",
   "metadata": {},
   "source": [
    "But using a methodoly is better if the values have an order. "
   ]
  },
  {
   "cell_type": "code",
   "execution_count": null,
   "id": "1263a2ca",
   "metadata": {
    "scrolled": true
   },
   "outputs": [],
   "source": [
    "sp_df = _df.loc[:,_df.columns[3:]]\n",
    "spearman_corr=pearson_df.corr(method=\"spearman\")\n",
    "spearman_corr"
   ]
  },
  {
   "cell_type": "code",
   "execution_count": null,
   "id": "a5354997",
   "metadata": {},
   "outputs": [],
   "source": [
    "fig = px.imshow(spearman_corr)\n",
    "fig.show()"
   ]
  },
  {
   "cell_type": "markdown",
   "id": "86d29e20",
   "metadata": {},
   "source": [
    "we can see the two correlation matrices values are different. "
   ]
  },
  {
   "cell_type": "markdown",
   "id": "d8323826",
   "metadata": {},
   "source": [
    "#### Summary Statistic"
   ]
  },
  {
   "cell_type": "code",
   "execution_count": null,
   "id": "814e7263",
   "metadata": {},
   "outputs": [],
   "source": [
    "pearson_corr.describe()"
   ]
  },
  {
   "cell_type": "code",
   "execution_count": null,
   "id": "82fd46b1",
   "metadata": {},
   "outputs": [],
   "source": [
    "_df.groupby(\"Region\").mean()"
   ]
  },
  {
   "cell_type": "code",
   "execution_count": null,
   "id": "8643435f",
   "metadata": {},
   "outputs": [],
   "source": [
    "_df.groupby([\"WorkType\",\"Region\"])['2001'].mean()"
   ]
  },
  {
   "cell_type": "code",
   "execution_count": null,
   "id": "28a0fa83",
   "metadata": {},
   "outputs": [],
   "source": [
    "_df.groupby(\"Region\")[\"2001\"].count()"
   ]
  },
  {
   "cell_type": "code",
   "execution_count": null,
   "id": "52edbdbe",
   "metadata": {},
   "outputs": [],
   "source": [
    "_df.groupby(\"WorkType\")[\"2001\"].count()"
   ]
  },
  {
   "cell_type": "markdown",
   "id": "1c8fd4db",
   "metadata": {},
   "source": [
    "### Section 2 : Data summary of Australia"
   ]
  },
  {
   "cell_type": "code",
   "execution_count": null,
   "id": "b6d2f703",
   "metadata": {},
   "outputs": [],
   "source": [
    "# gaining formatted data from the xls file\n",
    "Data_aus = pd.read_excel('87520072.xls', sheet_name= \"Data_Aus_T\")\n",
    "Data_aus_df = pd.DataFrame(Data_aus)\n",
    "Data_aus_df.head(2)"
   ]
  },
  {
   "cell_type": "markdown",
   "id": "549bafa3",
   "metadata": {},
   "source": [
    "###### 2.1 saving files in csv and json formats"
   ]
  },
  {
   "cell_type": "code",
   "execution_count": null,
   "id": "a19ef578",
   "metadata": {},
   "outputs": [],
   "source": [
    "Data_aus_df.to_csv(\"data_region_csv.csv\")"
   ]
  },
  {
   "cell_type": "code",
   "execution_count": null,
   "id": "3cab2b8f",
   "metadata": {},
   "outputs": [],
   "source": [
    "Data_aus_df.to_json(\"data_region_json.json\")"
   ]
  },
  {
   "cell_type": "markdown",
   "id": "76340483",
   "metadata": {},
   "source": [
    "We can do the same analysis to the Section 2 as in Section 1"
   ]
  }
 ],
 "metadata": {
  "kernelspec": {
   "display_name": "Python 3",
   "language": "python",
   "name": "python3"
  },
  "language_info": {
   "codemirror_mode": {
    "name": "ipython",
    "version": 3
   },
   "file_extension": ".py",
   "mimetype": "text/x-python",
   "name": "python",
   "nbconvert_exporter": "python",
   "pygments_lexer": "ipython3",
   "version": "3.8.8"
  }
 },
 "nbformat": 4,
 "nbformat_minor": 5
}
